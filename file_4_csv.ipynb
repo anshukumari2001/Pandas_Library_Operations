{
 "cells": [
  {
   "cell_type": "code",
   "execution_count": 1,
   "metadata": {},
   "outputs": [],
   "source": [
    "import pandas as pd"
   ]
  },
  {
   "cell_type": "code",
   "execution_count": 2,
   "metadata": {},
   "outputs": [],
   "source": [
    "df=pd.read_csv(\"hospital.csv\")"
   ]
  },
  {
   "cell_type": "code",
   "execution_count": 3,
   "metadata": {},
   "outputs": [
    {
     "data": {
      "text/html": [
       "<div>\n",
       "<style scoped>\n",
       "    .dataframe tbody tr th:only-of-type {\n",
       "        vertical-align: middle;\n",
       "    }\n",
       "\n",
       "    .dataframe tbody tr th {\n",
       "        vertical-align: top;\n",
       "    }\n",
       "\n",
       "    .dataframe thead th {\n",
       "        text-align: right;\n",
       "    }\n",
       "</style>\n",
       "<table border=\"1\" class=\"dataframe\">\n",
       "  <thead>\n",
       "    <tr style=\"text-align: right;\">\n",
       "      <th></th>\n",
       "      <th>country</th>\n",
       "      <th>state</th>\n",
       "      <th>county</th>\n",
       "      <th>lat</th>\n",
       "      <th>lng</th>\n",
       "      <th>type</th>\n",
       "      <th>measure</th>\n",
       "      <th>beds</th>\n",
       "      <th>population</th>\n",
       "      <th>year</th>\n",
       "      <th>source</th>\n",
       "      <th>source_url</th>\n",
       "    </tr>\n",
       "  </thead>\n",
       "  <tbody>\n",
       "    <tr>\n",
       "      <td>0</td>\n",
       "      <td>AF</td>\n",
       "      <td>NaN</td>\n",
       "      <td>NaN</td>\n",
       "      <td>33.00</td>\n",
       "      <td>65.00</td>\n",
       "      <td>TOTAL</td>\n",
       "      <td>1000HAB</td>\n",
       "      <td>0.5</td>\n",
       "      <td>31161376</td>\n",
       "      <td>2012</td>\n",
       "      <td>world-bank</td>\n",
       "      <td>https://datahub.io/world-bank/sh.med.beds.zs</td>\n",
       "    </tr>\n",
       "    <tr>\n",
       "      <td>1</td>\n",
       "      <td>AO</td>\n",
       "      <td>NaN</td>\n",
       "      <td>NaN</td>\n",
       "      <td>-12.50</td>\n",
       "      <td>18.50</td>\n",
       "      <td>TOTAL</td>\n",
       "      <td>1000HAB</td>\n",
       "      <td>0.8</td>\n",
       "      <td>19433602</td>\n",
       "      <td>2005</td>\n",
       "      <td>world-bank</td>\n",
       "      <td>https://datahub.io/world-bank/sh.med.beds.zs</td>\n",
       "    </tr>\n",
       "    <tr>\n",
       "      <td>2</td>\n",
       "      <td>AL</td>\n",
       "      <td>NaN</td>\n",
       "      <td>NaN</td>\n",
       "      <td>41.00</td>\n",
       "      <td>20.00</td>\n",
       "      <td>TOTAL</td>\n",
       "      <td>1000HAB</td>\n",
       "      <td>2.6</td>\n",
       "      <td>2900401</td>\n",
       "      <td>2012</td>\n",
       "      <td>world-bank</td>\n",
       "      <td>https://datahub.io/world-bank/sh.med.beds.zs</td>\n",
       "    </tr>\n",
       "    <tr>\n",
       "      <td>3</td>\n",
       "      <td>AD</td>\n",
       "      <td>NaN</td>\n",
       "      <td>NaN</td>\n",
       "      <td>42.50</td>\n",
       "      <td>1.50</td>\n",
       "      <td>TOTAL</td>\n",
       "      <td>1000HAB</td>\n",
       "      <td>2.5</td>\n",
       "      <td>84463</td>\n",
       "      <td>2009</td>\n",
       "      <td>world-bank</td>\n",
       "      <td>https://datahub.io/world-bank/sh.med.beds.zs</td>\n",
       "    </tr>\n",
       "    <tr>\n",
       "      <td>4</td>\n",
       "      <td>AE</td>\n",
       "      <td>NaN</td>\n",
       "      <td>NaN</td>\n",
       "      <td>24.00</td>\n",
       "      <td>54.00</td>\n",
       "      <td>TOTAL</td>\n",
       "      <td>1000HAB</td>\n",
       "      <td>1.1</td>\n",
       "      <td>9141596</td>\n",
       "      <td>2012</td>\n",
       "      <td>world-bank</td>\n",
       "      <td>https://datahub.io/world-bank/sh.med.beds.zs</td>\n",
       "    </tr>\n",
       "    <tr>\n",
       "      <td>...</td>\n",
       "      <td>...</td>\n",
       "      <td>...</td>\n",
       "      <td>...</td>\n",
       "      <td>...</td>\n",
       "      <td>...</td>\n",
       "      <td>...</td>\n",
       "      <td>...</td>\n",
       "      <td>...</td>\n",
       "      <td>...</td>\n",
       "      <td>...</td>\n",
       "      <td>...</td>\n",
       "      <td>...</td>\n",
       "    </tr>\n",
       "    <tr>\n",
       "      <td>194</td>\n",
       "      <td>WS</td>\n",
       "      <td>NaN</td>\n",
       "      <td>NaN</td>\n",
       "      <td>-13.58</td>\n",
       "      <td>-172.33</td>\n",
       "      <td>TOTAL</td>\n",
       "      <td>1000HAB</td>\n",
       "      <td>1.0</td>\n",
       "      <td>179727</td>\n",
       "      <td>2005</td>\n",
       "      <td>world-bank</td>\n",
       "      <td>https://datahub.io/world-bank/sh.med.beds.zs</td>\n",
       "    </tr>\n",
       "    <tr>\n",
       "      <td>195</td>\n",
       "      <td>YE</td>\n",
       "      <td>NaN</td>\n",
       "      <td>NaN</td>\n",
       "      <td>15.00</td>\n",
       "      <td>48.00</td>\n",
       "      <td>TOTAL</td>\n",
       "      <td>1000HAB</td>\n",
       "      <td>0.7</td>\n",
       "      <td>24473178</td>\n",
       "      <td>2012</td>\n",
       "      <td>world-bank</td>\n",
       "      <td>https://datahub.io/world-bank/sh.med.beds.zs</td>\n",
       "    </tr>\n",
       "    <tr>\n",
       "      <td>196</td>\n",
       "      <td>ZA</td>\n",
       "      <td>NaN</td>\n",
       "      <td>NaN</td>\n",
       "      <td>-29.00</td>\n",
       "      <td>24.00</td>\n",
       "      <td>TOTAL</td>\n",
       "      <td>1000HAB</td>\n",
       "      <td>2.8</td>\n",
       "      <td>47880601</td>\n",
       "      <td>2005</td>\n",
       "      <td>world-bank</td>\n",
       "      <td>https://datahub.io/world-bank/sh.med.beds.zs</td>\n",
       "    </tr>\n",
       "    <tr>\n",
       "      <td>197</td>\n",
       "      <td>ZM</td>\n",
       "      <td>NaN</td>\n",
       "      <td>NaN</td>\n",
       "      <td>-15.00</td>\n",
       "      <td>30.00</td>\n",
       "      <td>TOTAL</td>\n",
       "      <td>1000HAB</td>\n",
       "      <td>2.0</td>\n",
       "      <td>13605984</td>\n",
       "      <td>2010</td>\n",
       "      <td>world-bank</td>\n",
       "      <td>https://datahub.io/world-bank/sh.med.beds.zs</td>\n",
       "    </tr>\n",
       "    <tr>\n",
       "      <td>198</td>\n",
       "      <td>ZW</td>\n",
       "      <td>NaN</td>\n",
       "      <td>NaN</td>\n",
       "      <td>-20.00</td>\n",
       "      <td>30.00</td>\n",
       "      <td>TOTAL</td>\n",
       "      <td>1000HAB</td>\n",
       "      <td>1.7</td>\n",
       "      <td>12894316</td>\n",
       "      <td>2011</td>\n",
       "      <td>world-bank</td>\n",
       "      <td>https://datahub.io/world-bank/sh.med.beds.zs</td>\n",
       "    </tr>\n",
       "  </tbody>\n",
       "</table>\n",
       "<p>199 rows × 12 columns</p>\n",
       "</div>"
      ],
      "text/plain": [
       "    country  state  county    lat     lng   type  measure  beds  population  \\\n",
       "0        AF    NaN     NaN  33.00   65.00  TOTAL  1000HAB   0.5    31161376   \n",
       "1        AO    NaN     NaN -12.50   18.50  TOTAL  1000HAB   0.8    19433602   \n",
       "2        AL    NaN     NaN  41.00   20.00  TOTAL  1000HAB   2.6     2900401   \n",
       "3        AD    NaN     NaN  42.50    1.50  TOTAL  1000HAB   2.5       84463   \n",
       "4        AE    NaN     NaN  24.00   54.00  TOTAL  1000HAB   1.1     9141596   \n",
       "..      ...    ...     ...    ...     ...    ...      ...   ...         ...   \n",
       "194      WS    NaN     NaN -13.58 -172.33  TOTAL  1000HAB   1.0      179727   \n",
       "195      YE    NaN     NaN  15.00   48.00  TOTAL  1000HAB   0.7    24473178   \n",
       "196      ZA    NaN     NaN -29.00   24.00  TOTAL  1000HAB   2.8    47880601   \n",
       "197      ZM    NaN     NaN -15.00   30.00  TOTAL  1000HAB   2.0    13605984   \n",
       "198      ZW    NaN     NaN -20.00   30.00  TOTAL  1000HAB   1.7    12894316   \n",
       "\n",
       "     year      source                                    source_url  \n",
       "0    2012  world-bank  https://datahub.io/world-bank/sh.med.beds.zs  \n",
       "1    2005  world-bank  https://datahub.io/world-bank/sh.med.beds.zs  \n",
       "2    2012  world-bank  https://datahub.io/world-bank/sh.med.beds.zs  \n",
       "3    2009  world-bank  https://datahub.io/world-bank/sh.med.beds.zs  \n",
       "4    2012  world-bank  https://datahub.io/world-bank/sh.med.beds.zs  \n",
       "..    ...         ...                                           ...  \n",
       "194  2005  world-bank  https://datahub.io/world-bank/sh.med.beds.zs  \n",
       "195  2012  world-bank  https://datahub.io/world-bank/sh.med.beds.zs  \n",
       "196  2005  world-bank  https://datahub.io/world-bank/sh.med.beds.zs  \n",
       "197  2010  world-bank  https://datahub.io/world-bank/sh.med.beds.zs  \n",
       "198  2011  world-bank  https://datahub.io/world-bank/sh.med.beds.zs  \n",
       "\n",
       "[199 rows x 12 columns]"
      ]
     },
     "execution_count": 3,
     "metadata": {},
     "output_type": "execute_result"
    }
   ],
   "source": [
    "df"
   ]
  },
  {
   "cell_type": "code",
   "execution_count": 4,
   "metadata": {},
   "outputs": [
    {
     "data": {
      "text/html": [
       "<div>\n",
       "<style scoped>\n",
       "    .dataframe tbody tr th:only-of-type {\n",
       "        vertical-align: middle;\n",
       "    }\n",
       "\n",
       "    .dataframe tbody tr th {\n",
       "        vertical-align: top;\n",
       "    }\n",
       "\n",
       "    .dataframe thead th {\n",
       "        text-align: right;\n",
       "    }\n",
       "</style>\n",
       "<table border=\"1\" class=\"dataframe\">\n",
       "  <thead>\n",
       "    <tr style=\"text-align: right;\">\n",
       "      <th></th>\n",
       "      <th>country</th>\n",
       "      <th>state</th>\n",
       "      <th>county</th>\n",
       "      <th>lat</th>\n",
       "      <th>lng</th>\n",
       "      <th>type</th>\n",
       "      <th>measure</th>\n",
       "      <th>beds</th>\n",
       "      <th>population</th>\n",
       "      <th>year</th>\n",
       "      <th>source</th>\n",
       "      <th>source_url</th>\n",
       "    </tr>\n",
       "  </thead>\n",
       "  <tbody>\n",
       "    <tr>\n",
       "      <td>0</td>\n",
       "      <td>AF</td>\n",
       "      <td>NaN</td>\n",
       "      <td>NaN</td>\n",
       "      <td>33.0</td>\n",
       "      <td>65.0</td>\n",
       "      <td>TOTAL</td>\n",
       "      <td>1000HAB</td>\n",
       "      <td>0.5</td>\n",
       "      <td>31161376</td>\n",
       "      <td>2012</td>\n",
       "      <td>world-bank</td>\n",
       "      <td>https://datahub.io/world-bank/sh.med.beds.zs</td>\n",
       "    </tr>\n",
       "    <tr>\n",
       "      <td>1</td>\n",
       "      <td>AO</td>\n",
       "      <td>NaN</td>\n",
       "      <td>NaN</td>\n",
       "      <td>-12.5</td>\n",
       "      <td>18.5</td>\n",
       "      <td>TOTAL</td>\n",
       "      <td>1000HAB</td>\n",
       "      <td>0.8</td>\n",
       "      <td>19433602</td>\n",
       "      <td>2005</td>\n",
       "      <td>world-bank</td>\n",
       "      <td>https://datahub.io/world-bank/sh.med.beds.zs</td>\n",
       "    </tr>\n",
       "    <tr>\n",
       "      <td>2</td>\n",
       "      <td>AL</td>\n",
       "      <td>NaN</td>\n",
       "      <td>NaN</td>\n",
       "      <td>41.0</td>\n",
       "      <td>20.0</td>\n",
       "      <td>TOTAL</td>\n",
       "      <td>1000HAB</td>\n",
       "      <td>2.6</td>\n",
       "      <td>2900401</td>\n",
       "      <td>2012</td>\n",
       "      <td>world-bank</td>\n",
       "      <td>https://datahub.io/world-bank/sh.med.beds.zs</td>\n",
       "    </tr>\n",
       "    <tr>\n",
       "      <td>3</td>\n",
       "      <td>AD</td>\n",
       "      <td>NaN</td>\n",
       "      <td>NaN</td>\n",
       "      <td>42.5</td>\n",
       "      <td>1.5</td>\n",
       "      <td>TOTAL</td>\n",
       "      <td>1000HAB</td>\n",
       "      <td>2.5</td>\n",
       "      <td>84463</td>\n",
       "      <td>2009</td>\n",
       "      <td>world-bank</td>\n",
       "      <td>https://datahub.io/world-bank/sh.med.beds.zs</td>\n",
       "    </tr>\n",
       "    <tr>\n",
       "      <td>4</td>\n",
       "      <td>AE</td>\n",
       "      <td>NaN</td>\n",
       "      <td>NaN</td>\n",
       "      <td>24.0</td>\n",
       "      <td>54.0</td>\n",
       "      <td>TOTAL</td>\n",
       "      <td>1000HAB</td>\n",
       "      <td>1.1</td>\n",
       "      <td>9141596</td>\n",
       "      <td>2012</td>\n",
       "      <td>world-bank</td>\n",
       "      <td>https://datahub.io/world-bank/sh.med.beds.zs</td>\n",
       "    </tr>\n",
       "  </tbody>\n",
       "</table>\n",
       "</div>"
      ],
      "text/plain": [
       "  country  state  county   lat   lng   type  measure  beds  population  year  \\\n",
       "0      AF    NaN     NaN  33.0  65.0  TOTAL  1000HAB   0.5    31161376  2012   \n",
       "1      AO    NaN     NaN -12.5  18.5  TOTAL  1000HAB   0.8    19433602  2005   \n",
       "2      AL    NaN     NaN  41.0  20.0  TOTAL  1000HAB   2.6     2900401  2012   \n",
       "3      AD    NaN     NaN  42.5   1.5  TOTAL  1000HAB   2.5       84463  2009   \n",
       "4      AE    NaN     NaN  24.0  54.0  TOTAL  1000HAB   1.1     9141596  2012   \n",
       "\n",
       "       source                                    source_url  \n",
       "0  world-bank  https://datahub.io/world-bank/sh.med.beds.zs  \n",
       "1  world-bank  https://datahub.io/world-bank/sh.med.beds.zs  \n",
       "2  world-bank  https://datahub.io/world-bank/sh.med.beds.zs  \n",
       "3  world-bank  https://datahub.io/world-bank/sh.med.beds.zs  \n",
       "4  world-bank  https://datahub.io/world-bank/sh.med.beds.zs  "
      ]
     },
     "execution_count": 4,
     "metadata": {},
     "output_type": "execute_result"
    }
   ],
   "source": [
    "df.head()"
   ]
  },
  {
   "cell_type": "code",
   "execution_count": 5,
   "metadata": {},
   "outputs": [
    {
     "data": {
      "text/html": [
       "<div>\n",
       "<style scoped>\n",
       "    .dataframe tbody tr th:only-of-type {\n",
       "        vertical-align: middle;\n",
       "    }\n",
       "\n",
       "    .dataframe tbody tr th {\n",
       "        vertical-align: top;\n",
       "    }\n",
       "\n",
       "    .dataframe thead th {\n",
       "        text-align: right;\n",
       "    }\n",
       "</style>\n",
       "<table border=\"1\" class=\"dataframe\">\n",
       "  <thead>\n",
       "    <tr style=\"text-align: right;\">\n",
       "      <th></th>\n",
       "      <th>country</th>\n",
       "      <th>state</th>\n",
       "      <th>county</th>\n",
       "      <th>lat</th>\n",
       "      <th>lng</th>\n",
       "      <th>type</th>\n",
       "      <th>measure</th>\n",
       "      <th>beds</th>\n",
       "      <th>population</th>\n",
       "      <th>year</th>\n",
       "      <th>source</th>\n",
       "      <th>source_url</th>\n",
       "    </tr>\n",
       "  </thead>\n",
       "  <tbody>\n",
       "    <tr>\n",
       "      <td>194</td>\n",
       "      <td>WS</td>\n",
       "      <td>NaN</td>\n",
       "      <td>NaN</td>\n",
       "      <td>-13.58</td>\n",
       "      <td>-172.33</td>\n",
       "      <td>TOTAL</td>\n",
       "      <td>1000HAB</td>\n",
       "      <td>1.0</td>\n",
       "      <td>179727</td>\n",
       "      <td>2005</td>\n",
       "      <td>world-bank</td>\n",
       "      <td>https://datahub.io/world-bank/sh.med.beds.zs</td>\n",
       "    </tr>\n",
       "    <tr>\n",
       "      <td>195</td>\n",
       "      <td>YE</td>\n",
       "      <td>NaN</td>\n",
       "      <td>NaN</td>\n",
       "      <td>15.00</td>\n",
       "      <td>48.00</td>\n",
       "      <td>TOTAL</td>\n",
       "      <td>1000HAB</td>\n",
       "      <td>0.7</td>\n",
       "      <td>24473178</td>\n",
       "      <td>2012</td>\n",
       "      <td>world-bank</td>\n",
       "      <td>https://datahub.io/world-bank/sh.med.beds.zs</td>\n",
       "    </tr>\n",
       "    <tr>\n",
       "      <td>196</td>\n",
       "      <td>ZA</td>\n",
       "      <td>NaN</td>\n",
       "      <td>NaN</td>\n",
       "      <td>-29.00</td>\n",
       "      <td>24.00</td>\n",
       "      <td>TOTAL</td>\n",
       "      <td>1000HAB</td>\n",
       "      <td>2.8</td>\n",
       "      <td>47880601</td>\n",
       "      <td>2005</td>\n",
       "      <td>world-bank</td>\n",
       "      <td>https://datahub.io/world-bank/sh.med.beds.zs</td>\n",
       "    </tr>\n",
       "    <tr>\n",
       "      <td>197</td>\n",
       "      <td>ZM</td>\n",
       "      <td>NaN</td>\n",
       "      <td>NaN</td>\n",
       "      <td>-15.00</td>\n",
       "      <td>30.00</td>\n",
       "      <td>TOTAL</td>\n",
       "      <td>1000HAB</td>\n",
       "      <td>2.0</td>\n",
       "      <td>13605984</td>\n",
       "      <td>2010</td>\n",
       "      <td>world-bank</td>\n",
       "      <td>https://datahub.io/world-bank/sh.med.beds.zs</td>\n",
       "    </tr>\n",
       "    <tr>\n",
       "      <td>198</td>\n",
       "      <td>ZW</td>\n",
       "      <td>NaN</td>\n",
       "      <td>NaN</td>\n",
       "      <td>-20.00</td>\n",
       "      <td>30.00</td>\n",
       "      <td>TOTAL</td>\n",
       "      <td>1000HAB</td>\n",
       "      <td>1.7</td>\n",
       "      <td>12894316</td>\n",
       "      <td>2011</td>\n",
       "      <td>world-bank</td>\n",
       "      <td>https://datahub.io/world-bank/sh.med.beds.zs</td>\n",
       "    </tr>\n",
       "  </tbody>\n",
       "</table>\n",
       "</div>"
      ],
      "text/plain": [
       "    country  state  county    lat     lng   type  measure  beds  population  \\\n",
       "194      WS    NaN     NaN -13.58 -172.33  TOTAL  1000HAB   1.0      179727   \n",
       "195      YE    NaN     NaN  15.00   48.00  TOTAL  1000HAB   0.7    24473178   \n",
       "196      ZA    NaN     NaN -29.00   24.00  TOTAL  1000HAB   2.8    47880601   \n",
       "197      ZM    NaN     NaN -15.00   30.00  TOTAL  1000HAB   2.0    13605984   \n",
       "198      ZW    NaN     NaN -20.00   30.00  TOTAL  1000HAB   1.7    12894316   \n",
       "\n",
       "     year      source                                    source_url  \n",
       "194  2005  world-bank  https://datahub.io/world-bank/sh.med.beds.zs  \n",
       "195  2012  world-bank  https://datahub.io/world-bank/sh.med.beds.zs  \n",
       "196  2005  world-bank  https://datahub.io/world-bank/sh.med.beds.zs  \n",
       "197  2010  world-bank  https://datahub.io/world-bank/sh.med.beds.zs  \n",
       "198  2011  world-bank  https://datahub.io/world-bank/sh.med.beds.zs  "
      ]
     },
     "execution_count": 5,
     "metadata": {},
     "output_type": "execute_result"
    }
   ],
   "source": [
    "df.tail()"
   ]
  },
  {
   "cell_type": "code",
   "execution_count": 9,
   "metadata": {},
   "outputs": [
    {
     "data": {
      "text/plain": [
       "0      31161376\n",
       "1      19433602\n",
       "2       2900401\n",
       "3         84463\n",
       "4       9141596\n",
       "         ...   \n",
       "194      179727\n",
       "195    24473178\n",
       "196    47880601\n",
       "197    13605984\n",
       "198    12894316\n",
       "Name: population, Length: 199, dtype: int64"
      ]
     },
     "execution_count": 9,
     "metadata": {},
     "output_type": "execute_result"
    }
   ],
   "source": [
    "df1=pd.read_csv(\"hospital.csv\",squeeze=True,usecols=['population'])\n",
    "df1"
   ]
  },
  {
   "cell_type": "code",
   "execution_count": 10,
   "metadata": {},
   "outputs": [
    {
     "data": {
      "text/plain": [
       "array([  31161376,   19433602,    2900401,      84463,    9141596,\n",
       "         41733271,    2884229,      89253,   22031750,    8391643,\n",
       "          9295784,    8958406,   11106932,    9199259,   15605217,\n",
       "        149273778,    7348328,    1299943,     359577,    3705472,\n",
       "          9473172,     338000,      60129,   10377676,  199300000,\n",
       "           283700,     398989,     701583,    1987105,    4418636,\n",
       "         34004889,    7912398,   17233576, 1344000000,   18754916,\n",
       "         20341241,   56578037,    3622775,   46076848,     626425,\n",
       "           492654,    4688000,   11257101,      25312,    1124833,\n",
       "         10496088,   80274983,     868136,      70965,    5547683,\n",
       "          9813210,   32692163,   15243883,   86422240,    3213972,\n",
       "         46742697,    1327439,   90139927,    5388272,     853637,\n",
       "         65342780,     102975,    1624140,   63258810,    3728874,\n",
       "         25387710,   10420471,    1848147,    1483921,     943639,\n",
       "         11107017,     107446,      46400,   14948803,     747718,\n",
       "          5456200,    8640691,    4238389,    9495328,    9971727,\n",
       "        248452413, 1250000000,    4580084,   75539862,   31890011,\n",
       "           320716,    7910500,   59379449,    2842132,    8090872,\n",
       "        128047000,   16792089,   42030676,    5607200,   14541423,\n",
       "           104728,      49887,   49307835,    3348853,    6444530,\n",
       "          5538634,    3891356,    6285750,     175544,   20425000,\n",
       "          1989939,    3028115,     506953,    2059709,     246194,\n",
       "         33241898,      36460,    2859458,   21151640,     353398,\n",
       "        115695473,      56366,    2072487,   15049353,     420028,\n",
       "         49301050,     620079,    2824699,   24187487,    3111906,\n",
       "          1252404,   14962112,   29068159,    2081044,   13624467,\n",
       "        135320422,    5982526,   16530388,    4953088,   26066693,\n",
       "            10005,    4384000,    3498029,  187281475,    3706483,\n",
       "         29506788,   95570047,      17955,    4615839,   38063255,\n",
       "          3724655,   24800612,   10557560,    6333976,    2588000,\n",
       "          2196074,   20147528,  143049528,    9273757,   29155187,\n",
       "         36193783,   12004701,    5183688,     556064,    5829237,\n",
       "          6237923,      32105,    7936127,    7320807,     184524,\n",
       "           529131,    5398384,    2059953,    9449213,    1072000,\n",
       "            87441,   20442541,   10096633,    6595943,   67195028,\n",
       "          7697510,    5267900,    1093523,     103986,    1344817,\n",
       "         10847002,   73443863,       9484,   44346525,   32428167,\n",
       "         45593300,    3378974,  311556874,   28562400,     108435,\n",
       "         28888369,     108095,   87967651,     224704,     179727,\n",
       "         24473178,   47880601,   13605984,   12894316], dtype=int64)"
      ]
     },
     "execution_count": 10,
     "metadata": {},
     "output_type": "execute_result"
    }
   ],
   "source": [
    "df1.values"
   ]
  },
  {
   "cell_type": "code",
   "execution_count": 11,
   "metadata": {},
   "outputs": [
    {
     "data": {
      "text/plain": [
       "RangeIndex(start=0, stop=199, step=1)"
      ]
     },
     "execution_count": 11,
     "metadata": {},
     "output_type": "execute_result"
    }
   ],
   "source": [
    "df1.index"
   ]
  },
  {
   "cell_type": "code",
   "execution_count": 12,
   "metadata": {},
   "outputs": [
    {
     "data": {
      "text/plain": [
       "dtype('int64')"
      ]
     },
     "execution_count": 12,
     "metadata": {},
     "output_type": "execute_result"
    }
   ],
   "source": [
    "df1.dtype"
   ]
  },
  {
   "cell_type": "code",
   "execution_count": 13,
   "metadata": {},
   "outputs": [
    {
     "data": {
      "text/plain": [
       "True"
      ]
     },
     "execution_count": 13,
     "metadata": {},
     "output_type": "execute_result"
    }
   ],
   "source": [
    "df1.is_unique"
   ]
  },
  {
   "cell_type": "code",
   "execution_count": 14,
   "metadata": {},
   "outputs": [
    {
     "data": {
      "text/plain": [
       "1"
      ]
     },
     "execution_count": 14,
     "metadata": {},
     "output_type": "execute_result"
    }
   ],
   "source": [
    "df1.ndim"
   ]
  },
  {
   "cell_type": "code",
   "execution_count": 15,
   "metadata": {},
   "outputs": [
    {
     "data": {
      "text/plain": [
       "2"
      ]
     },
     "execution_count": 15,
     "metadata": {},
     "output_type": "execute_result"
    }
   ],
   "source": [
    "df.ndim"
   ]
  },
  {
   "cell_type": "code",
   "execution_count": 16,
   "metadata": {},
   "outputs": [
    {
     "data": {
      "text/plain": [
       "(199,)"
      ]
     },
     "execution_count": 16,
     "metadata": {},
     "output_type": "execute_result"
    }
   ],
   "source": [
    "df1.shape"
   ]
  },
  {
   "cell_type": "code",
   "execution_count": 17,
   "metadata": {},
   "outputs": [
    {
     "data": {
      "text/plain": [
       "199"
      ]
     },
     "execution_count": 17,
     "metadata": {},
     "output_type": "execute_result"
    }
   ],
   "source": [
    "df1.size"
   ]
  },
  {
   "cell_type": "code",
   "execution_count": null,
   "metadata": {},
   "outputs": [],
   "source": []
  }
 ],
 "metadata": {
  "kernelspec": {
   "display_name": "Python 3",
   "language": "python",
   "name": "python3"
  },
  "language_info": {
   "codemirror_mode": {
    "name": "ipython",
    "version": 3
   },
   "file_extension": ".py",
   "mimetype": "text/x-python",
   "name": "python",
   "nbconvert_exporter": "python",
   "pygments_lexer": "ipython3",
   "version": "3.7.4"
  }
 },
 "nbformat": 4,
 "nbformat_minor": 2
}
