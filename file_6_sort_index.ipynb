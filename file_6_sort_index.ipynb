{
 "cells": [
  {
   "cell_type": "code",
   "execution_count": 1,
   "metadata": {},
   "outputs": [],
   "source": [
    "import pandas as pd"
   ]
  },
  {
   "cell_type": "code",
   "execution_count": 2,
   "metadata": {},
   "outputs": [
    {
     "data": {
      "text/plain": [
       "0      31161376\n",
       "1      19433602\n",
       "2       2900401\n",
       "3         84463\n",
       "4       9141596\n",
       "         ...   \n",
       "194      179727\n",
       "195    24473178\n",
       "196    47880601\n",
       "197    13605984\n",
       "198    12894316\n",
       "Name: population, Length: 199, dtype: int64"
      ]
     },
     "execution_count": 2,
     "metadata": {},
     "output_type": "execute_result"
    }
   ],
   "source": [
    "df=pd.read_csv(\"hospital.csv\",squeeze=True,usecols=['population'])\n",
    "df"
   ]
  },
  {
   "cell_type": "code",
   "execution_count": 3,
   "metadata": {},
   "outputs": [
    {
     "data": {
      "text/plain": [
       "0      31161376\n",
       "1      19433602\n",
       "2       2900401\n",
       "3         84463\n",
       "4       9141596\n",
       "         ...   \n",
       "194      179727\n",
       "195    24473178\n",
       "196    47880601\n",
       "197    13605984\n",
       "198    12894316\n",
       "Name: population, Length: 199, dtype: int64"
      ]
     },
     "execution_count": 3,
     "metadata": {},
     "output_type": "execute_result"
    }
   ],
   "source": [
    "df.sort_index()"
   ]
  },
  {
   "cell_type": "code",
   "execution_count": 4,
   "metadata": {},
   "outputs": [
    {
     "data": {
      "text/plain": [
       "0    31161376\n",
       "1    19433602\n",
       "2     2900401\n",
       "3       84463\n",
       "4     9141596\n",
       "Name: population, dtype: int64"
      ]
     },
     "execution_count": 4,
     "metadata": {},
     "output_type": "execute_result"
    }
   ],
   "source": [
    "df.sort_index(ascending=True).head()"
   ]
  },
  {
   "cell_type": "code",
   "execution_count": 5,
   "metadata": {},
   "outputs": [
    {
     "data": {
      "text/plain": [
       "198    12894316\n",
       "197    13605984\n",
       "196    47880601\n",
       "195    24473178\n",
       "194      179727\n",
       "Name: population, dtype: int64"
      ]
     },
     "execution_count": 5,
     "metadata": {},
     "output_type": "execute_result"
    }
   ],
   "source": [
    "df.sort_index(ascending=False).head(5)"
   ]
  },
  {
   "cell_type": "code",
   "execution_count": 6,
   "metadata": {},
   "outputs": [
    {
     "data": {
      "text/plain": [
       "18754916"
      ]
     },
     "execution_count": 6,
     "metadata": {},
     "output_type": "execute_result"
    }
   ],
   "source": [
    "df[34]"
   ]
  },
  {
   "cell_type": "code",
   "execution_count": 7,
   "metadata": {},
   "outputs": [
    {
     "data": {
      "text/plain": [
       "29     4418636\n",
       "100    5538634\n",
       "159    5829237\n",
       "Name: population, dtype: int64"
      ]
     },
     "execution_count": 7,
     "metadata": {},
     "output_type": "execute_result"
    }
   ],
   "source": [
    "df[[29,100,159]]"
   ]
  },
  {
   "cell_type": "code",
   "execution_count": 8,
   "metadata": {},
   "outputs": [
    {
     "data": {
      "text/plain": [
       "0       31161376\n",
       "1       19433602\n",
       "2        2900401\n",
       "3          84463\n",
       "4        9141596\n",
       "5       41733271\n",
       "6        2884229\n",
       "7          89253\n",
       "8       22031750\n",
       "9        8391643\n",
       "10       9295784\n",
       "11       8958406\n",
       "12      11106932\n",
       "13       9199259\n",
       "14      15605217\n",
       "15     149273778\n",
       "16       7348328\n",
       "17       1299943\n",
       "18        359577\n",
       "19       3705472\n",
       "20       9473172\n",
       "21        338000\n",
       "22         60129\n",
       "23      10377676\n",
       "24     199300000\n",
       "25        283700\n",
       "26        398989\n",
       "27        701583\n",
       "28       1987105\n",
       "29       4418636\n",
       "30      34004889\n",
       "31       7912398\n",
       "32      17233576\n",
       "33    1344000000\n",
       "34      18754916\n",
       "35      20341241\n",
       "36      56578037\n",
       "37       3622775\n",
       "38      46076848\n",
       "39        626425\n",
       "40        492654\n",
       "41       4688000\n",
       "42      11257101\n",
       "43         25312\n",
       "44       1124833\n",
       "45      10496088\n",
       "46      80274983\n",
       "47        868136\n",
       "48         70965\n",
       "49       5547683\n",
       "50       9813210\n",
       "Name: population, dtype: int64"
      ]
     },
     "execution_count": 8,
     "metadata": {},
     "output_type": "execute_result"
    }
   ],
   "source": [
    "df[0:51]"
   ]
  },
  {
   "cell_type": "code",
   "execution_count": 9,
   "metadata": {},
   "outputs": [
    {
     "data": {
      "text/plain": [
       "179      1344817\n",
       "180     10847002\n",
       "181     73443863\n",
       "182         9484\n",
       "183     44346525\n",
       "184     32428167\n",
       "185     45593300\n",
       "186      3378974\n",
       "187    311556874\n",
       "188     28562400\n",
       "189       108435\n",
       "190     28888369\n",
       "191       108095\n",
       "192     87967651\n",
       "193       224704\n",
       "194       179727\n",
       "195     24473178\n",
       "196     47880601\n",
       "197     13605984\n",
       "198     12894316\n",
       "Name: population, dtype: int64"
      ]
     },
     "execution_count": 9,
     "metadata": {},
     "output_type": "execute_result"
    }
   ],
   "source": [
    "df[-20:]"
   ]
  },
  {
   "cell_type": "code",
   "execution_count": 10,
   "metadata": {},
   "outputs": [
    {
     "data": {
      "text/plain": [
       "179      1344817\n",
       "180     10847002\n",
       "181     73443863\n",
       "182         9484\n",
       "183     44346525\n",
       "184     32428167\n",
       "185     45593300\n",
       "186      3378974\n",
       "187    311556874\n",
       "188     28562400\n",
       "Name: population, dtype: int64"
      ]
     },
     "execution_count": 10,
     "metadata": {},
     "output_type": "execute_result"
    }
   ],
   "source": [
    "df[-20:-10]"
   ]
  },
  {
   "cell_type": "code",
   "execution_count": null,
   "metadata": {},
   "outputs": [],
   "source": []
  }
 ],
 "metadata": {
  "kernelspec": {
   "display_name": "Python 3",
   "language": "python",
   "name": "python3"
  },
  "language_info": {
   "codemirror_mode": {
    "name": "ipython",
    "version": 3
   },
   "file_extension": ".py",
   "mimetype": "text/x-python",
   "name": "python",
   "nbconvert_exporter": "python",
   "pygments_lexer": "ipython3",
   "version": "3.7.4"
  }
 },
 "nbformat": 4,
 "nbformat_minor": 2
}
