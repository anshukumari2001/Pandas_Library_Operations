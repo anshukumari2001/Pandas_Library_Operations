{
 "cells": [
  {
   "cell_type": "code",
   "execution_count": 1,
   "metadata": {},
   "outputs": [],
   "source": [
    "import pandas as pd"
   ]
  },
  {
   "cell_type": "code",
   "execution_count": 2,
   "metadata": {},
   "outputs": [
    {
     "data": {
      "text/plain": [
       "0      31161376\n",
       "1      19433602\n",
       "2       2900401\n",
       "3         84463\n",
       "4       9141596\n",
       "         ...   \n",
       "194      179727\n",
       "195    24473178\n",
       "196    47880601\n",
       "197    13605984\n",
       "198    12894316\n",
       "Name: population, Length: 199, dtype: int64"
      ]
     },
     "execution_count": 2,
     "metadata": {},
     "output_type": "execute_result"
    }
   ],
   "source": [
    "df2= pd.read_csv(\"hospital.csv\",squeeze=True,usecols=['population'])\n",
    "df2"
   ]
  },
  {
   "cell_type": "code",
   "execution_count": 3,
   "metadata": {},
   "outputs": [
    {
     "data": {
      "text/plain": [
       "182     9484\n",
       "135    10005\n",
       "142    17955\n",
       "43     25312\n",
       "161    32105\n",
       "111    36460\n",
       "72     46400\n",
       "Name: population, dtype: int64"
      ]
     },
     "execution_count": 3,
     "metadata": {},
     "output_type": "execute_result"
    }
   ],
   "source": [
    "df2.sort_values(ascending=True).head(7)"
   ]
  },
  {
   "cell_type": "code",
   "execution_count": 4,
   "metadata": {},
   "outputs": [
    {
     "data": {
      "text/plain": [
       "33     1344000000\n",
       "81     1250000000\n",
       "187     311556874\n",
       "80      248452413\n",
       "24      199300000\n",
       "          ...    \n",
       "161         32105\n",
       "43          25312\n",
       "142         17955\n",
       "135         10005\n",
       "182          9484\n",
       "Name: population, Length: 199, dtype: int64"
      ]
     },
     "execution_count": 4,
     "metadata": {},
     "output_type": "execute_result"
    }
   ],
   "source": [
    "df2.sort_values(ascending=False,inplace=True)\n",
    "df2"
   ]
  },
  {
   "cell_type": "code",
   "execution_count": 5,
   "metadata": {},
   "outputs": [
    {
     "data": {
      "text/plain": [
       "33     1344000000\n",
       "81     1250000000\n",
       "187     311556874\n",
       "80      248452413\n",
       "24      199300000\n",
       "          ...    \n",
       "161         32105\n",
       "43          25312\n",
       "142         17955\n",
       "135         10005\n",
       "182          9484\n",
       "Name: population, Length: 199, dtype: int64"
      ]
     },
     "execution_count": 5,
     "metadata": {},
     "output_type": "execute_result"
    }
   ],
   "source": [
    "df2"
   ]
  },
  {
   "cell_type": "code",
   "execution_count": null,
   "metadata": {},
   "outputs": [],
   "source": []
  }
 ],
 "metadata": {
  "kernelspec": {
   "display_name": "Python 3",
   "language": "python",
   "name": "python3"
  },
  "language_info": {
   "codemirror_mode": {
    "name": "ipython",
    "version": 3
   },
   "file_extension": ".py",
   "mimetype": "text/x-python",
   "name": "python",
   "nbconvert_exporter": "python",
   "pygments_lexer": "ipython3",
   "version": "3.7.4"
  }
 },
 "nbformat": 4,
 "nbformat_minor": 2
}
